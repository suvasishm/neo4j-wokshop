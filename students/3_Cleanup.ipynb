{
  "cells": [
    {
      "cell_type": "markdown",
      "metadata": {
        "id": "SR8CBhnZbTgY"
      },
      "source": [
        "[![Open In Colab](https://colab.research.google.com/assets/colab-badge.svg)](https://colab.research.google.com/github/neo4j-field/call-transcripts-automation/blob/main/students/3_Cleanup.ipynb)"
      ]
    },
    {
      "cell_type": "code",
      "execution_count": null,
      "metadata": {
        "id": "6MT5SHkabTgf",
        "vscode": {
          "languageId": "plaintext"
        }
      },
      "outputs": [],
      "source": [
        "%%capture\n",
        "!pip --quiet install python-dotenv neo4j graphdatascience langchain_neo4j"
      ]
    },
    {
      "cell_type": "markdown",
      "metadata": {
        "id": "pMAwFU9YaU4J"
      },
      "source": [
        "**Update Student's environment code (received via email)**"
      ]
    },
    {
      "cell_type": "code",
      "execution_count": null,
      "metadata": {
        "id": "7e9SV-B2YnvE"
      },
      "outputs": [],
      "source": [
        "STUDENT_ENV_CODE=\"43ff\""
      ]
    },
    {
      "cell_type": "markdown",
      "metadata": {
        "id": "5-pscnQybTgg"
      },
      "source": [
        "## Dotenv configuration"
      ]
    },
    {
      "cell_type": "markdown",
      "metadata": {
        "id": "2f1zDY12Xr0q"
      },
      "source": [
        "## Load env file from S3"
      ]
    },
    {
      "cell_type": "code",
      "execution_count": null,
      "metadata": {
        "id": "0fEW9YRbWOGN"
      },
      "outputs": [],
      "source": [
        "import requests\n",
        "\n",
        "# GCS URL\n",
        "GCS_FILE_URL = \"https://storage.googleapis.com/neo4j-nodes-network/students/\"+STUDENT_ENV_CODE+\"/aura.txt\"\n",
        "\n",
        "# Local filename to save\n",
        "LOCAL_ENV_FILE = \"aura.env\"\n",
        "\n",
        "# Fetch the file and write it locally\n",
        "response = requests.get(GCS_FILE_URL)\n",
        "if response.status_code == 200:\n",
        "    with open(LOCAL_ENV_FILE, \"wb\") as f:\n",
        "        f.write(response.content)\n",
        "    print(f\"✅ Environment file downloaded and saved as {LOCAL_ENV_FILE}\")\n",
        "else:\n",
        "    raise Exception(f\"❌ Failed to fetch the .env file: {response.status_code}\")"
      ]
    },
    {
      "cell_type": "code",
      "execution_count": null,
      "metadata": {
        "id": "nSTBiwtubTgg",
        "vscode": {
          "languageId": "plaintext"
        }
      },
      "outputs": [],
      "source": [
        "# NOTE: Upload files (.env)!!!!\n",
        "# You can skip this cell if not using a ws.env file - alternative to above\n",
        "from dotenv import load_dotenv\n",
        "import os\n",
        "\n",
        "if os.path.exists(LOCAL_ENV_FILE):\n",
        "     load_dotenv(LOCAL_ENV_FILE, override=True)\n",
        "\n",
        "     # Neo4j\n",
        "     NEO4J_URI = os.getenv('NEO4J_URI')\n",
        "     NEO4J_USERNAME = os.getenv('NEO4J_USERNAME')\n",
        "     NEO4J_PASSWORD = os.getenv('NEO4J_PASSWORD')\n",
        "\n",
        "     AURA_API_CLIENT_ID=os.getenv('AURA_API_CLIENT_ID')\n",
        "     AURA_API_CLIENT_SECRET=os.getenv('AURA_API_CLIENT_SECRET')\n",
        "\n",
        "     IS_AURA = os.environ.get(\"AURA\", True) is True\n",
        "\n",
        "     # AI\n",
        "     LLM = 'gpt-4o'\n",
        "     AZURE_OPENAI_API_KEY = os.getenv('AZURE_OPENAI_API_KEY')\n",
        "\n",
        "print(f\"OPENAI_KEY: {AZURE_OPENAI_API_KEY}\")"
      ]
    },
    {
      "cell_type": "markdown",
      "metadata": {
        "id": "VxiTAMghbTgg"
      },
      "source": [
        "## Connecting to Neo4j\n",
        "\n",
        "Provide your Neo4j credentials. We need the DB conection URL, the username (probably neo4j), and your password."
      ]
    },
    {
      "cell_type": "code",
      "execution_count": null,
      "metadata": {
        "id": "xza3ZtxtbTgh",
        "vscode": {
          "languageId": "plaintext"
        }
      },
      "outputs": [],
      "source": [
        "from langchain_neo4j import Neo4jGraph\n",
        "\n",
        "# You can skip this cell if not using a ws.env file - alternative to above\n",
        "# Get credentials from .env file\n",
        "NEO4J_URI = os.getenv('NEO4J_URI')\n",
        "NEO4J_USERNAME = os.getenv('NEO4J_USERNAME')\n",
        "NEO4J_PASSWORD = os.getenv('NEO4J_PASSWORD')\n",
        "\n",
        "graph_db = Neo4jGraph(url=NEO4J_URI, username=NEO4J_USERNAME, password=NEO4J_PASSWORD)"
      ]
    },
    {
      "cell_type": "markdown",
      "metadata": {
        "id": "r00sWrUhbTgh"
      },
      "source": [
        "# Cleanup Post Ingestion\n",
        "Execute this if you need to execute the PostIngestionProcessing notebook."
      ]
    },
    {
      "cell_type": "code",
      "execution_count": null,
      "metadata": {
        "id": "S7m2a2N1bTgh",
        "vscode": {
          "languageId": "plaintext"
        }
      },
      "outputs": [],
      "source": [
        "graph_db.query(\"\"\"\n",
        "  MATCH (n:Observation|ProcessElement)\n",
        "  CALL (n) {\n",
        "    DETACH DELETE n\n",
        "  } IN TRANSACTIONS OF 1000 ROWS\n",
        "  return count(n) as deleted\n",
        "  \"\"\")"
      ]
    },
    {
      "cell_type": "markdown",
      "metadata": {
        "id": "4T9ZgbZkbTgh"
      },
      "source": [
        "# Cleanup everything\n",
        "After executing this, you will need to execute BOTH notebooks (IngestTranscripts and PostIngestionProcess)"
      ]
    },
    {
      "cell_type": "code",
      "execution_count": null,
      "metadata": {
        "id": "DhLFeyumbTgh",
        "vscode": {
          "languageId": "plaintext"
        }
      },
      "outputs": [],
      "source": [
        "# graph_db.query(\"\"\"\n",
        "#   MATCH (n)\n",
        "#   CALL (n) {\n",
        "#     DETACH DELETE n\n",
        "#   } IN TRANSACTIONS OF 1000 ROWS\n",
        "#   return count(n) as deleted\n",
        "#   \"\"\")"
      ]
    },
    {
      "cell_type": "markdown",
      "metadata": {
        "id": "ovG_mN3ud0-i"
      },
      "source": [
        "# Drop Constraints"
      ]
    },
    {
      "cell_type": "code",
      "execution_count": null,
      "metadata": {
        "id": "jmezsI5Pdz7n"
      },
      "outputs": [],
      "source": [
        "# graph_db.query(\"DROP CONSTRAINT commentId IF EXISTS\")\n",
        "# graph_db.query(\"DROP CONSTRAINT callId IF EXISTS\")\n",
        "# graph_db.query(\"DROP CONSTRAINT entityName IF EXISTS\")\n",
        "# graph_db.query(\"DROP CONSTRAINT customerId IF EXISTS\")\n",
        "# graph_db.query(\"DROP CONSTRAINT representativeId IF EXISTS\")\n",
        "# graph_db.query(\"DROP CONSTRAINT observationId IF EXISTS\")\n",
        "# graph_db.query(\"DROP CONSTRAINT processElementId IF EXISTS\")"
      ]
    }
  ],
  "metadata": {
    "colab": {
      "provenance": [],
      "toc_visible": true
    },
    "kernelspec": {
      "display_name": "Python 3",
      "name": "python3"
    },
    "language_info": {
      "name": "python"
    }
  },
  "nbformat": 4,
  "nbformat_minor": 0
}